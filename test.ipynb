{
 "cells": [
  {
   "cell_type": "code",
   "execution_count": 101,
   "metadata": {},
   "outputs": [
    {
     "name": "stdout",
     "output_type": "stream",
     "text": [
      "hello\n"
     ]
    }
   ],
   "source": [
    "print(\"hello\")"
   ]
  },
  {
   "cell_type": "code",
   "execution_count": 102,
   "metadata": {},
   "outputs": [],
   "source": [
    "from langchain_core.tools import tool"
   ]
  },
  {
   "cell_type": "code",
   "execution_count": 103,
   "metadata": {},
   "outputs": [],
   "source": [
    "@tool\n",
    "def add(a, b):\n",
    "  \"\"\"\n",
    "  Adds two numbers together\n",
    "  Args:\n",
    "    a (int): first number\n",
    "    b (int): second number\n",
    "  Returns: number\n",
    "  \"\"\"\n",
    "  return a + b"
   ]
  },
  {
   "cell_type": "code",
   "execution_count": 104,
   "metadata": {},
   "outputs": [
    {
     "data": {
      "text/plain": [
       "StructuredTool(name='add', description='Adds two numbers together\\nArgs:\\n  a (int): first number\\n  b (int): second number\\nReturns: number', args_schema=<class 'langchain_core.utils.pydantic.add'>, func=<function add at 0x0000020639FC6F20>)"
      ]
     },
     "execution_count": 104,
     "metadata": {},
     "output_type": "execute_result"
    }
   ],
   "source": [
    "add"
   ]
  },
  {
   "cell_type": "code",
   "execution_count": 105,
   "metadata": {},
   "outputs": [
    {
     "data": {
      "text/plain": [
       "5"
      ]
     },
     "execution_count": 105,
     "metadata": {},
     "output_type": "execute_result"
    }
   ],
   "source": [
    "add.invoke({'a': 2, 'b': 3})"
   ]
  },
  {
   "cell_type": "code",
   "execution_count": 106,
   "metadata": {},
   "outputs": [],
   "source": [
    "@tool\n",
    "def test1():\n",
    "  '''\n",
    "    This is the first test tool.\n",
    "    Args:\n",
    "    Returns: None\n",
    "  '''\n",
    "  print(\"test1\")\n",
    "  \n",
    "@tool  \n",
    "def test2():\n",
    "  '''\n",
    "    This is the second test tool.\n",
    "    Args:\n",
    "    Returns: None\n",
    "  '''\n",
    "  print(\"test 2\")"
   ]
  },
  {
   "cell_type": "code",
   "execution_count": 107,
   "metadata": {},
   "outputs": [],
   "source": [
    "test1_metadata = 'here is some metadata for test 1'\n",
    "test2_metadata = 'here is some metadata for test 2'\n",
    "list_of_metadata=[test1_metadata, test2_metadata]"
   ]
  },
  {
   "cell_type": "code",
   "execution_count": 108,
   "metadata": {},
   "outputs": [
    {
     "name": "stdout",
     "output_type": "stream",
     "text": [
      "{'test1': StructuredTool(name='test1', description='This is the first test tool.\\nArgs:\\nReturns: None', args_schema=<class 'langchain_core.utils.pydantic.test1'>, func=<function test1 at 0x000002062FD9FF60>), 'test2': StructuredTool(name='test2', description='This is the second test tool.\\nArgs:\\nReturns: None', args_schema=<class 'langchain_core.utils.pydantic.test2'>, func=<function test2 at 0x000002062FD9D9E0>)}\n"
     ]
    }
   ],
   "source": [
    "tools = [test1, test2]\n",
    "list_of_tools = {tool.name: tool for tool in tools}\n",
    "print(list_of_tools)"
   ]
  },
  {
   "cell_type": "code",
   "execution_count": 109,
   "metadata": {},
   "outputs": [
    {
     "name": "stdout",
     "output_type": "stream",
     "text": [
      "[{'name': 'test1', 'metadata': 'here is some metadata for test 1'}, {'name': 'test2', 'metadata': 'here is some metadata for test 2'}]\n"
     ]
    }
   ],
   "source": [
    "metadata_list = [{\"name\": tool.name, \"metadata\": metadata} for tool, metadata in zip(tools, list_of_metadata)]\n",
    "print(metadata_list)"
   ]
  },
  {
   "cell_type": "code",
   "execution_count": 110,
   "metadata": {},
   "outputs": [],
   "source": [
    "def find_tool_metadata(tool_name):\n",
    "  return [item for item in metadata_list if item['name'] == tool_name]"
   ]
  },
  {
   "cell_type": "code",
   "execution_count": 111,
   "metadata": {},
   "outputs": [
    {
     "name": "stdout",
     "output_type": "stream",
     "text": [
      "[{'name': 'test1', 'metadata': 'here is some metadata for test 1'}]\n"
     ]
    }
   ],
   "source": [
    "selected_tool = find_tool_metadata('test1')\n",
    "print(selected_tool)"
   ]
  },
  {
   "cell_type": "code",
   "execution_count": 112,
   "metadata": {},
   "outputs": [
    {
     "data": {
      "text/plain": [
       "'test1'"
      ]
     },
     "execution_count": 112,
     "metadata": {},
     "output_type": "execute_result"
    }
   ],
   "source": [
    "selected_tool[0]['name']\n"
   ]
  },
  {
   "cell_type": "code",
   "execution_count": 113,
   "metadata": {},
   "outputs": [
    {
     "data": {
      "text/plain": [
       "'here is some metadata for test 1'"
      ]
     },
     "execution_count": 113,
     "metadata": {},
     "output_type": "execute_result"
    }
   ],
   "source": [
    "selected_tool[0]['metadata']"
   ]
  }
 ],
 "metadata": {
  "kernelspec": {
   "display_name": "env",
   "language": "python",
   "name": "python3"
  },
  "language_info": {
   "codemirror_mode": {
    "name": "ipython",
    "version": 3
   },
   "file_extension": ".py",
   "mimetype": "text/x-python",
   "name": "python",
   "nbconvert_exporter": "python",
   "pygments_lexer": "ipython3",
   "version": "3.13.2"
  }
 },
 "nbformat": 4,
 "nbformat_minor": 2
}
